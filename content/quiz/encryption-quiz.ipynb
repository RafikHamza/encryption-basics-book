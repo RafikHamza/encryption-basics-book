# Encryption Quiz

Test your understanding of basic encryption concepts with this interactive quiz.

```{admonition} Instructions
:class: tip
- Run each cell to view the question
- Write your answer in the provided input field
- Check your answer with the "Check Answer" button
- Keep track of your score!
```

## Question 1: Caesar Cipher

```python
from ipywidgets import widgets
from IPython.display import display, Markdown, clear_output
import random

def check_q1(b):
    answer = q1_answer.value.strip().upper()
    if answer == "KHOOR":
        display(Markdown("✅ **Correct!** 'HELLO' with a shift of 3 becomes 'KHOOR'."))
    else:
        display(Markdown(f"❌ **Incorrect.** Your answer: '{answer}'. Try again!"))

# Display the question
display(Markdown("""
**Question 1:** 
What is the result of encrypting the word "HELLO" using a Caesar cipher with a shift of 3?
"""))

# Create input field and button
q1_answer = widgets.Text(description="Answer:")
q1_check = widgets.Button(description="Check Answer")
q1_check.on_click(check_q1)

display(q1_answer, q1_check)
```

## Question 2: Encryption Properties

```python
def check_q2(b):
    selected = [option.description for option in q2_options if option.value]
    expected = ["The key must be truly random", "The key must be as long as the message", "The key must never be reused"]
    
    if set(selected) == set(expected):
        display(Markdown("✅ **Correct!** All three of these conditions must be met for a one-time pad to be perfectly secure."))
    else:
        display(Markdown("❌ **Incorrect.** Please review the properties of perfect secrecy in one-time pads."))

# Display the question
display(Markdown("""
**Question 2:** 
For a one-time pad using XOR to be perfectly secure, which of the following must be true? (Select all that apply)
"""))

# Create checkboxes
q2_options = [
    widgets.Checkbox(description="The key must be truly random", value=False),
    widgets.Checkbox(description="The key must be as long as the message", value=False),
    widgets.Checkbox(description="The key must never be reused", value=False),
    widgets.Checkbox(description="The key must be a prime number", value=False),
    widgets.Checkbox(description="The plaintext must contain only letters", value=False)
]

# Create check button
q2_check = widgets.Button(description="Check Answer")
q2_check.on_click(check_q2)

# Display widgets
for option in q2_options:
    display(option)
display(q2_check)
```

## Question 3: Vigenère Cipher

```python
def check_q3(b):
    answer = q3_answer.value.strip().upper()
    if answer == "RIJVS":
        display(Markdown("✅ **Correct!** Using 'KEY' to encrypt 'HELLO' with Vigenère cipher gives 'RIJVS'."))
    else:
        display(Markdown(f"❌ **Incorrect.** Your answer: '{answer}'. Try again!"))

# Display the question
display(Markdown("""
**Question 3:** 
What is the result of encrypting "HELLO" using the Vigenère cipher with the key "KEY"?
"""))

# Create input field and button
q3_answer = widgets.Text(description="Answer:")
q3_check = widgets.Button(description="Check Answer")
q3_check.on_click(check_q3)

display(q3_answer, q3_check)
```

## Question 4: Encoding vs. Encryption

```python
def check_q4(b):
    selected = q4_dropdown.value
    if selected == "encryption":
        display(Markdown("✅ **Correct!** Encoding is transformation without a key, intended for format conversion, not security."))
    else:
        display(Markdown("❌ **Incorrect.** Review the differences between encoding and encryption."))

# Display the question
display(Markdown("""
**Question 4:** 
Which statement is true?
"""))

# Create dropdown
q4_dropdown = widgets.Dropdown(
    options=[
        ('Select your answer...', 'none'),
        ('Base64 is an encryption algorithm that provides security', 'wrong1'),
        ('Converting text to ASCII is a form of encryption', 'wrong2'),
        ('Encoding is meant to ensure data can\'t be read by unauthorized parties', 'wrong3'),
        ('Encoding transforms data format without using a secret key', 'encryption')
    ],
    value='none',
    description='Answer:'
)

# Create check button
q4_check = widgets.Button(description="Check Answer")
q4_check.on_click(check_q4)

# Display widgets
display(q4_dropdown, q4_check)
```

## Question 5: XOR Properties

```python
def check_q5(b):
    answer = q5_answer.value.strip().upper()
    if "HELLO" in answer or "ORIGINAL" in answer or "PLAINTEXT" in answer:
        display(Markdown("✅ **Correct!** XORing twice with the same key returns the original plaintext."))
    else:
        display(Markdown(f"❌ **Incorrect.** Your answer: '{answer}'. Try again!"))

# Display the question
display(Markdown("""
**Question 5:** 
If you encrypt a message using XOR with a specific key, then XOR the result with the same key again, what do you get?
"""))

# Create input field and button
q5_answer = widgets.Text(description="Answer:")
q5_check = widgets.Button(description="Check Answer")
q5_check.on_click(check_q5)

display(q5_answer, q5_check)
```

## Question 6: Historical Context

```python
def check_q6(b):
    selected = q6_dropdown.value
    if selected == "caesar":
        display(Markdown("✅ **Correct!** Julius Caesar used this cipher to communicate with his generals."))
    else:
        display(Markdown("❌ **Incorrect.** Try again!"))

# Display the question
display(Markdown("""
**Question 6:** 
Which historical figure is associated with the simple substitution cipher that bears his name?
"""))

# Create dropdown
q6_dropdown = widgets.Dropdown(
    options=[
        ('Select your answer...', 'none'),
        ('Alan Turing', 'turing'),
        ('Julius Caesar', 'caesar'),
        ('Blaise de Vigenère', 'vigenere'),
        ('Enigma', 'enigma')
    ],
    value='none',
    description='Answer:'
)

# Create check button
q6_check = widgets.Button(description="Check Answer")
q6_check.on_click(check_q6)

# Display widgets
display(q6_dropdown, q6_check)
```

## Question 7: XOR Truth Table

```python
def check_q7(b):
    input1 = q7_input1.value
    input2 = q7_input2.value
    result = q7_result.value
    
    if input1 and input2 and result:
        if (input1 == "1" and input2 == "1" and result == "0") or \
           (input1 == "0" and input2 == "0" and result == "0") or \
           (input1 == "1" and input2 == "0" and result == "1") or \
           (input1 == "0" and input2 == "1" and result == "1"):
            display(Markdown("✅ **Correct!** XOR outputs 1 only when inputs differ."))
        else:
            display(Markdown("❌ **Incorrect.** Review the XOR truth table."))
    else:
        display(Markdown("Please fill all fields."))

# Display the question
display(Markdown("""
**Question 7:** 
Fill in a row of the XOR truth table (input bits can be 0 or 1):
"""))

# Create input fields
q7_input1 = widgets.Text(description="Input 1:", placeholder="0 or 1")
q7_input2 = widgets.Text(description="Input 2:", placeholder="0 or 1")
q7_result = widgets.Text(description="Output:", placeholder="0 or 1")

# Create check button
q7_check = widgets.Button(description="Check Answer")
q7_check.on_click(check_q7)

# Display widgets
display(q7_input1, q7_input2, q7_result, q7_check)
```

## Question 8: Vigenère Table

```python
def check_q8(b):
    answer = q8_answer.value.strip().upper()
    if answer == "Q" or answer == "Q":
        display(Markdown("✅ **Correct!** In the Vigenère table, the intersection of row H and column J is Q."))
    else:
        display(Markdown(f"❌ **Incorrect.** Your answer: '{answer}'. Try again!"))

# Display the question
display(Markdown("""
**Question 8:** 
Using a Vigenère table, if the plaintext letter is 'H' and the key letter is 'J', what is the resulting ciphertext letter?
"""))

# Create input field and button
q8_answer = widgets.Text(description="Answer:")
q8_check = widgets.Button(description="Check Answer")
q8_check.on_click(check_q8)

display(q8_answer, q8_check)
```

## Question 9: Cryptanalysis

```python
def check_q9(b):
    selected = [option.description for option in q9_options if option.value]
    expected = ["Frequency analysis", "Kasiski examination"]
    
    if set(selected) == set(expected):
        display(Markdown("✅ **Correct!** These are techniques used to break Vigenère ciphers."))
    else:
        display(Markdown("❌ **Incorrect.** Review the cryptanalysis techniques for Vigenère ciphers."))

# Display the question
display(Markdown("""
**Question 9:** 
Which techniques can be used to break a Vigenère cipher? (Select all that apply)
"""))

# Create checkboxes
q9_options = [
    widgets.Checkbox(description="Frequency analysis", value=False),
    widgets.Checkbox(description="Kasiski examination", value=False),
    widgets.Checkbox(description="Quantum computing", value=False),
    widgets.Checkbox(description="Differential cryptanalysis", value=False),
    widgets.Checkbox(description="Social engineering", value=False)
]

# Create check button
q9_check = widgets.Button(description="Check Answer")
q9_check.on_click(check_q9)

# Display widgets
for option in q9_options:
    display(option)
display(q9_check)
```

## Question 10: Modern Applications

```python
def check_q10(b):
    selected = q10_dropdown.value
    if selected == "hybrid":
        display(Markdown("✅ **Correct!** Modern systems typically use both for optimal security and performance."))
    else:
        display(Markdown("❌ **Incorrect.** Review modern cryptographic systems."))

# Display the question
display(Markdown("""
**Question 10:** 
In modern secure communications (like HTTPS), what type of encryption is typically used?
"""))

# Create dropdown
q10_dropdown = widgets.Dropdown(
    options=[
        ('Select your answer...', 'none'),
        ('Only symmetric encryption', 'symmetric'),
        ('Only asymmetric encryption', 'asymmetric'),
        ('A hybrid of symmetric and asymmetric encryption', 'hybrid'),
        ('No encryption, just encoding', 'none_enc')
    ],
    value='none',
    description='Answer:'
)

# Create check button
q10_check = widgets.Button(description="Check Answer")
q10_check.on_click(check_q10)

# Display widgets
display(q10_dropdown, q10_check)
```

## Calculate Your Score

Run this cell after completing all questions to calculate your score:

```python
def calculate_score(b):
    # This is a simplified version - in a real implementation, 
    # you would track correct answers for each question
    display(Markdown("## Your Quiz Results"))
    display(Markdown("Congratulations on completing the encryption basics quiz!"))
    display(Markdown("To see your actual score, please review your answers to each question above."))
    display(Markdown("Remember to continue practicing with the interactive notebooks."))

score_button = widgets.Button(description="Show Results")
score_button.on_click(calculate_score)
display(score_button)
```
