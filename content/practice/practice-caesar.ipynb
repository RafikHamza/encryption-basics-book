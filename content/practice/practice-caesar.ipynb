# Practice: Caesar Cipher

This notebook provides interactive exercises to help you master the Caesar cipher encryption technique.

## Exercise 1: Basic Encryption

Complete the function below to encrypt a message using the Caesar cipher:

```python
def encrypt_caesar(plaintext, shift):
    """
    Encrypt a message using the Caesar cipher
    """
    ciphertext = ""
    # Your code here
    
    return ciphertext

# Test your function
test_message = "HELLO"
test_shift = 3
print(f"Encrypted: {encrypt_caesar(test_message, test_shift)}")
# Expected output: "KHOOR"
```

## Exercise 2: Implementing Decryption

Now implement the decryption function:

```python
def decrypt_caesar(ciphertext, shift):
    """
    Decrypt a message encrypted with the Caesar cipher
    """
    plaintext = ""
    # Your code here
    
    return plaintext

# Test your function
test_cipher = "KHOOR"
test_shift = 3
print(f"Decrypted: {decrypt_caesar(test_cipher, test_shift)}")
# Expected output: "HELLO"
```

## Exercise 3: Handling Edge Cases

Modify your encryption function to handle numbers, spaces, and punctuation:

```python
def encrypt_caesar_improved(plaintext, shift):
    """
    Encrypt a message using Caesar cipher, handling non-alphabetic characters
    """
    ciphertext = ""
    # Your code here
    
    return ciphertext

# Test with more complex message
complex_message = "Hello, World! 123"
encrypted = encrypt_caesar_improved(complex_message, 5)
print(f"Original: {complex_message}")
print(f"Encrypted: {encrypted}")
```

## Exercise 4: Brute Force Attack

Create a function that attempts to break a Caesar cipher by trying all possible shifts:

```python
def break_caesar(ciphertext):
    """
    Try all possible Caesar cipher shifts (1-25) and print results
    """
    # Your code here
    pass

# Test with encrypted message
secret = "PBATENGHYNGVBAF"
print("Breaking cipher:")
break_caesar(secret)
# See if you can identify which output is meaningful English
```

## Exercise 5: Caesar Cipher Frequency Analysis

Using your knowledge of letter frequency in English, implement a function that tries to automatically determine the most likely shift:

```python
def frequency_analysis_caesar(ciphertext):
    """
    Attempt to determine the shift key using letter frequency analysis
    """
    # English letter frequency (most to least common)
    english_freq = "ETAOINSHRDLUCMFWYPVBGKJQXZ"
    
    # Your code here
    
    return best_shift

# Test with encrypted text
encrypted_paragraph = "GUR DHVPX OEBJA SBK WHZCF BIRE GUR YNML QBT"
likely_shift = frequency_analysis_caesar(encrypted_paragraph)
print(f"Most likely shift: {likely_shift}")
print(f"Decrypted message: {decrypt_caesar(encrypted_paragraph, likely_shift)}")
```

## Challenge: ROT13

ROT13 is a special case of the Caesar cipher with a shift of 13. It's sometimes used for hiding spoilers or solutions online because it's self-reciprocal (applying it twice gets back the original text).

Implement a ROT13 function and use it to decode this message:

```python
def rot13(text):
    """
    Apply ROT13 to a string
    """
    # Your code here
    return result

# Decode this hidden message
hidden = "PBATENGHYNGVBAF! LBH UNIR FHPPRRQRQ VA QRPBQVAT GUVF ZRFFNTR."
print(rot13(hidden))
```

## Solutions

You can check your solutions against the provided implementations below (click to reveal):

<details>
<summary>Solution: Exercise 1</summary>

```python
def encrypt_caesar(plaintext, shift):
    ciphertext = ""
    for char in plaintext:
        if char.isalpha():
            ascii_offset = ord('A') if char.isupper() else ord('a')
            shifted = (ord(char) - ascii_offset + shift) % 26
            ciphertext += chr(shifted + ascii_offset)
        else:
            ciphertext += char
    return ciphertext
```
</details>

<details>
<summary>Solution: Exercise 2</summary>

```python
def decrypt_caesar(ciphertext, shift):
    # To decrypt, we simply encrypt with the negative shift
    return encrypt_caesar(ciphertext, -shift)
```
</details>

(The remaining solutions are intentionally not shown - try implementing them yourself!)
